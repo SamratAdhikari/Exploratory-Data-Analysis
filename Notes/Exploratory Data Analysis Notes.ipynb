{
 "cells": [
  {
   "cell_type": "markdown",
   "id": "f964a6b5",
   "metadata": {},
   "source": [
    "# EXPLORATORY DATA ANALYSIS"
   ]
  },
  {
   "cell_type": "markdown",
   "id": "27b1ed3b",
   "metadata": {},
   "source": [
    " "
   ]
  },
  {
   "cell_type": "markdown",
   "id": "3407a4a7",
   "metadata": {},
   "source": [
    "## Introduction to EDA"
   ]
  },
  {
   "cell_type": "markdown",
   "id": "e3bfadbf",
   "metadata": {},
   "source": [
    "<b>EDA:</b>\n",
    "- Critical process of performing initial investigtions on data to:\n",
    "    - Discover Patterns\n",
    "    - Outlier Detection\n",
    "    - Test Hypothesis\n",
    "    - Check Assumptions with summary statistics & graphical representations.\n",
    "    \n",
    "<b>Case Study:</b>\n",
    "- Imagine that, you decide to watch a movie on Netflix which you haven't heard of.\n",
    "- You find yourself puzzled with lot of questions which needs to be answered in order to make a decision.\n",
    "- So you will start asking questions like:\n",
    "   - What is the cast of the movie?\n",
    "   - What is the crew of the movie?\n",
    "   - Watch the trailer of the movie.\n",
    "   - Ratings & Reviews by other audience.\n",
    "   \n",
    "<b>Significance of EDA:</b>\n",
    "- It allows data scientists to anlyze the data before coming to any assumptions. It ensures that the results produced are valid nd applicable to business outcomes and goals.\n",
    "- Helps in identifying errors in datasets.\n",
    "- Gives a better understanding of dataset.\n",
    "- Helps detect outliers.\n",
    "- Understand dataset variables & relationship among them.\n",
    "\n",
    "<b>Why EDA?</b>\n",
    "- Provides summary statistics for each column of the dataset.\n",
    "- eg: Lets observe the Anscombe's Quartet & its summary.\n",
    "<img src=\"assets/Anscombe-Quartet.png\" width=\"600\">  \n",
    "\n",
    "- Now lets observe the EDA of the dataset visually.\n",
    "<img src=\"assets/Anscombe-Quartet-Visual.png\" width=\"600\">  \n",
    "\n",
    "- We can clearly observe that, all the datasets have different properties.\n",
    "\n",
    "<b>Summary of Ascombe's Quartet:</b>\n",
    "- Dataset 1: Fits the linear regression model.\n",
    "- Dataset 2: Could not fit linear regression model on the data quite well as the data is non-linear.\n",
    "- Dataset 3: Shows the outliers involved in the dataset which cannot be handled by linear regression model.\n",
    "- Dataset 4: Shows the outliers involved in the dataset which cannot be handled by linear regression model.\n",
    "\n",
    "<b>Key thing to remember:</b>\n",
    "- All the important features in the dataset must be visualized before implementing any Machine Learning Algorithm."
   ]
  },
  {
   "cell_type": "markdown",
   "id": "04f4087e",
   "metadata": {},
   "source": [
    " "
   ]
  },
  {
   "cell_type": "markdown",
   "id": "337eb5ca",
   "metadata": {},
   "source": [
    "## Data Analysis Techniques"
   ]
  },
  {
   "cell_type": "markdown",
   "id": "402ac9db",
   "metadata": {},
   "source": [
    "<b>Data Analysis:</b>\n",
    "- Graphical: Exploratory Data Analysis\n",
    "- Quantitative: Classical Statistical Methods\n",
    "\n",
    "<b>EDA Classification:</b>\n",
    "- Univariate EDA:\n",
    "    - Uni means one and variate means variable. So, in univariate analysis, there is only one dependent variable (column).\n",
    "    - Can be Categorical/Numerical.\n",
    "    \n",
    "- Bivariate EDA:\n",
    "    - Bi means two and variate means variable. So, in bivariate analysis, its a analysis related to relationship between 2 variables.\n",
    "    \n",
    "- Multivariate EDA:\n",
    "    - Multivariate analysis is required when more than two variables must be analyzed simultaneously.\n",
    "\n",
    "\n",
    "All three types of EDAs can be performed using Non-Graphical & Graphical techniques."
   ]
  },
  {
   "cell_type": "markdown",
   "id": "cb5d8e10",
   "metadata": {},
   "source": [
    " "
   ]
  },
  {
   "cell_type": "markdown",
   "id": "b582f240",
   "metadata": {},
   "source": [
    "## Univariate Non-Graphical EDA"
   ]
  },
  {
   "cell_type": "markdown",
   "id": "d174f609",
   "metadata": {},
   "source": [
    "- Helps us to understand the underlying sample distribution and make observations about the population.\n",
    "- For Categorical data: Build a table containing the count and frequency of data of each category.\n",
    "\n",
    "<b>Analysis of Numerical Data:</b>  \n",
    "Numerical data can be analyzed with:\n",
    "- Measures of Central Tendency\n",
    "- Measures of Dispersion\n",
    "- Measures of Position\n",
    "- Measures of Shape\n",
    "- Existence of Outliers\n",
    "\n",
    "<b>Existence of Outliers:</b>\n",
    "- An outlier is an observation that appears to deviate markedly from other observations in the sample.\n",
    "<img src=\"assets/Outliers.png\" width=\"300\">\n",
    "\n",
    "<br>\n",
    "\n",
    "<b>How can an Outlier occur in the sample dataset?</b>\n",
    "- Data Entry/Experimental Measurement Error:  \n",
    "    Typo, Easy to identify.\n",
    "- Sampling Problems:  \n",
    "    Due to collection of random samples.\n",
    "- Natural Variation:  \n",
    "    Abnormal Conditions\n",
    "    \n",
    "    \n",
    "<b>Existence of Outliers - Impact:</b>\n",
    "- Significant impact on the mean and the standard deviation.\n",
    "- Outliers are non-randomly distributed, they can decrease normality.\n",
    "- Create bias or influence estimates that may be of substantive interest.\n",
    "- Have an impact on basic assumption of Regression, ANOVA and other statistical model assumptions.\n",
    "\n",
    "<b>Methods of Identifying Outliers:</b>\n",
    "- Sort the dataset.\n",
    "- Using Graphical Methods.\n",
    "- Standard Score (z-score).\n",
    "- Interquartile Range (IQR)."
   ]
  },
  {
   "cell_type": "markdown",
   "id": "b5472ad6",
   "metadata": {},
   "source": [
    " "
   ]
  },
  {
   "cell_type": "markdown",
   "id": "01b7c309",
   "metadata": {},
   "source": [
    "## Univariate Graphical EDA"
   ]
  },
  {
   "cell_type": "markdown",
   "id": "412cba5a",
   "metadata": {},
   "source": [
    "- This technique helps us look graphically at the distribution of the sample.  \n",
    "    Graphical methods are more qualitative. They help us to visualize the patterns in the dataset.\n",
    "- Types of Graphs used to summarize and organize data:\n",
    "    - Line Graph\n",
    "    - Pie Charts\n",
    "    - Bar graphs\n",
    "    - Histograms\n",
    "    - Line graphs\n",
    "    - Box plots\n",
    "    - Scatter plots\n",
    "    - Dot plots\n",
    "    \n",
    "<b>Statistical Graphs - Pie Charts:</b>\n",
    "- A pie chart is a circular statistical graphical chart, which is divided into slices to illustrate numerical proportions.\n",
    "- In pie charts, central angle, area and the arc length of each slices are proportional to the quantity or percentage they represent.\n",
    "- Pie charts are useful for limited number of categories in the dataset.  \n",
    "    If the number of categories is greater than 7, the pie chart maynot give the effective visualization.\n",
    "<img src=\"assets/Pie-Chart.png\" width=\"500\">\n",
    "\n",
    "<br>\n",
    "\n",
    "<b>Statistical Graphs - Bar Graphs:</b>\n",
    "- A bar graph consists of horizontal or vertical bars that are separated from each other.  \n",
    "    horizontal stripes: Bar graphs\n",
    "    vertical stripes: Column graphs\n",
    "- Although they look the same, bar graphs and histograms have one important difference -  \n",
    "    Discrete data is plotted on a Bar Graph &  \n",
    "    Continuous data is plotted on a Histogram.\n",
    "<img src=\"assets/Bar-Graph.png\" width=\"400\">\n",
    "\n",
    "<br>\n",
    "\n",
    "<b>Statistical Graphs - Line Graphs:</b>\n",
    "- A line graph is usually used to show the change of information over a period.\n",
    "- The line graph is often viewed as a time series graph and is one of the most popular graphs in quantitative univariate analysis.\n",
    "<img src=\"assets/Line-Graph.png\" width=\"400\">\n",
    "\n",
    "<br>\n",
    "\n",
    "<b>Statistical Graphs - Box Plots:</b>\n",
    "- Box plots are used for detecting and illustrating location and variation changes between different groups of data.\n",
    "- Box plots are very good at presenting information about how tightly data are grouped, the central tendency and skewness as well as outliers.\n",
    "<img src=\"assets/Box-Plot.png\" width=\"600\">\n",
    "\n",
    "<br>\n",
    "\n",
    "<b>Statistical Graphs - Dot Plots:</b>\n",
    "- Dot plots use dots to show the data values (or scores) in a distribution and are used for relatively small datasets.\n",
    "- Dot plots are a type of simple histogram-like charts that use dots instead of bars.\n",
    "<img src=\"assets/Dot-Plot.png\" width=\"400\">\n"
   ]
  },
  {
   "cell_type": "markdown",
   "id": "3264c00b",
   "metadata": {},
   "source": [
    " "
   ]
  },
  {
   "cell_type": "markdown",
   "id": "8629b720",
   "metadata": {},
   "source": [
    "## Multivariate Non-Graphical EDA"
   ]
  },
  {
   "cell_type": "markdown",
   "id": "894c0ab8",
   "metadata": {},
   "source": [
    "- Like univariate analysis, multivariate analysis involves both computing summary statistics and producing visual displays.\n",
    "- The appropriate type of multivariate analysis depends on the nature of the data, numerical or categorical.\n",
    "- Under Multivariate Non-Graphical EDA:\n",
    "    - Cross-tabulation\n",
    "    - Calculate correlation and covariance\n",
    "- Under Multivariate Graphical EDA:\n",
    "    - Correlation using scatter plots\n",
    "    - Correlation using heat maps\n",
    "    \n",
    "<b>Cross-Tabulation:</b>\n",
    "- For categorical data (and numerical data with only a few variables), cross-tabulation is performed by making a two-way table with column headings that match the levels of one variable and row headings that match the levels of the other variable, then filling in the counts of all subjects that share a pair of levels.\n",
    "<img src=\"assets/Cross-Tabulation.png\" width=\"500\">\n",
    "\n",
    "<br>\n",
    "\n",
    "\n",
    "<b>Covariance:</b>\n",
    "- Covariance indicates whether the variables are positively or negatively related.\n",
    "- Covariance indicates the direction and not the strength of linear relationship between variables.\n",
    "- Covariance has dimensions.\n",
    "- Formula:  \n",
    "    cov<sub>x,y</sub> = $\\frac{Σ(xᵢ - x̄)(yᵢ - ȳ)}{N - 1}$\n",
    "<img src=\"assets/Covariance.png\" width=\"400\">\n",
    "\n",
    "<b>Correlation:</b>\n",
    "- Correlation indicates the degree to which the variables are related.\n",
    "- Correlation measures both strength and direction of linear relationship between two variables.\n",
    "- Correlation is a dimensionless unit.\n",
    "- Formula:  \n",
    "    r = $\\frac{Σ(xᵢ - x̄)(yᵢ - ȳ)}{\\sqrt Σ(xᵢ - x̄)²(yᵢ - ȳ)² }$\n",
    "<img src=\"assets/Correlation.png\" width=\"400\">\n",
    "\n",
    "Correlation is a function of Covariance.  \n",
    "Covariance & Correlation help analyze the linear relationship between variables.\n",
    "\n",
    "<br>\n",
    "\n",
    "<b>Association:</b>\n",
    "- Represents the relationship between two variables.\n",
    "- This connection can be something much less strictly defined.\n",
    "- eg: A certain smell can remind someone of their home, or a certain sound of another event that was important to them.\n",
    "\n",
    "<b>Confounding Variables:</b>\n",
    "- Sometimes there is a third variable that is not accounted for, that can affect the relationship between the two variables under study.\n",
    "- Suppose a researcher collects data on ice-cream sales and shark attacks and finds that the two variables are highly correlated. Thats unlikely.\n",
    "- More likely cause is the confounding variable temperature.\n",
    "- When it is warmer outside, more people buy ice-cream and more people go in the ocean.\n",
    "- Requirements for Confounding Variables:\n",
    "    - It must be correlated with the independent variable.\n",
    "    - It must have a casual relationship with the dependent variable.\n",
    "    \n",
    "<b>Causation:</b>\n",
    "- Causation means that changes in one variable measured directly caused changes in the other.\n",
    "- eg: Smoking and Cancer.\n",
    "- The number of studies and collective evidence give strong indication that lung cancer is causally related to tobacco consumption.\n",
    "- Relative risk of lung cancer is directly caused by cigarette smoking.\n",
    "- Causality implies association.\n",
    "<img src=\"assets/Causation.png\" width=\"400\">\n",
    "\n",
    "<br>\n",
    "\n",
    "<b>Correlation Matrix:</b>\n",
    "- Correlation matrix is a matrix in which the iᵗʰ - jᵗʰ position defines the correlation between the iᵗʰ and jᵗʰ parameter of the specified dataset.\n",
    "- The value (r) provides the strength and direction of association as follows:\n",
    "    - Value of r ranges from -1 to 1.\n",
    "    - Positive value indicates a positive association and vice-versa.\n",
    "    - The association is the strongest when r = 1 and reduces with the value of r.\n",
    "<img src=\"assets/Correlation-Matrix.png\" width=\"500\">"
   ]
  },
  {
   "cell_type": "markdown",
   "id": "fff8d087",
   "metadata": {},
   "source": [
    " "
   ]
  },
  {
   "cell_type": "markdown",
   "id": "20b3b694",
   "metadata": {},
   "source": [
    "## Multivariate Graphical EDA"
   ]
  },
  {
   "cell_type": "markdown",
   "id": "f1010792",
   "metadata": {},
   "source": [
    "Multivariate Graphical EDA techniques include:\n",
    "- Scatter plots\n",
    "- Heat maps\n",
    "\n",
    "<b>Scatter Plot:</b>\n",
    "- A scatter plot represents individual pieces of data using dots.\n",
    "- These plots make it easier to see if two variables are related to each other.\n",
    "- The resulting pattern indicates the type (linear or non-linear) and strength of the relationship between two variables.\n",
    "- Scatter plot is the visual counterpart of Correlation Matrix.\n",
    "<img src=\"assets/Scatter-Plot.png\" width=\"400\">\n",
    "\n",
    "<br>\n",
    "\n",
    "Scatter Plot Matrix:\n",
    "<img src=\"assets/Pair-Plot.png\" width=\"900\">\n",
    "\n",
    "<br>\n",
    "\n",
    "<b>Heat Maps:</b>\n",
    "- A data visualization technique that shows magnitude of a phenomenon as color in two dimensions.\n",
    "- Heat maps are used to show relationships between two variables, one plotted on each axis.\n",
    "- Heat maps use correlation data to depict the association between two or more variables.\n",
    "<img src=\"assets/Heat-Map.png\" width=\"400\">"
   ]
  },
  {
   "cell_type": "markdown",
   "id": "19dd53f0",
   "metadata": {},
   "source": [
    " "
   ]
  },
  {
   "cell_type": "markdown",
   "id": "ed085bb2",
   "metadata": {},
   "source": [
    "## Steps in EDA"
   ]
  },
  {
   "cell_type": "markdown",
   "id": "f3da23ce",
   "metadata": {},
   "source": [
    "<b>i. Variable Identification:</b>\n",
    "- In this step, we identify every variable by discovering its type.\n",
    "- According to our needs, we can change the datatype of any variable.\n",
    "<img src='assets/Variable-Identification.png' width='300'>\n",
    "\n",
    "\n",
    "<b>ii. Univariate Analysis:</b>\n",
    "- Here, we study individual characteristics of every feature/variable available in the dataset.\n",
    "- Continuous Variable:\n",
    "    - Histogram, KDE, Boxplot & Q-Q plot\n",
    "- Categorical Variable:\n",
    "    - Bar plot, Pie chart, Frequency table\n",
    "\n",
    "\n",
    "<b>iii. Bi/Multivariate Analysis:</b>\n",
    "- Here, we study the relationship between any two or more variables which can be categorical-continuous, categorical-categorical or continuous-continuous.\n",
    "- Continuous-Continuous:  \n",
    "    Scatterplot, Heatmap, Jointplot, Pairplot.\n",
    "- Categorical-Continuous:  \n",
    "    Factor plot, Swarm map, Violin plot, Strip plot.\n",
    "- Categorical-Categorical:  \n",
    "    Cross-Tabulation, Stacked Bar, Bar chart.\n",
    "\n",
    "\n",
    "<b>iv. Missing value Treatment:</b>\n",
    "- If we dont treat the missing values, they can interfere with the pattern running in the data which in turn can degrade the model's performance.\n",
    "- We usually fill the missing values with the mean of the dataset.\n",
    "- If our dataset has any outliers, we fill the missing values with the median.\n",
    "- If our data is a string value (or a categorical value), we usually fill the missing values with the mode.\n",
    "\n",
    "\n",
    "<b>v. Outlier Removal:</b>\n",
    "- Outliers cause unusual patterns or observations in mean and standard deviation.\n",
    "- Presence of outliers can cause issues with model's performance.\n",
    "- Hence, it is required to treat them accordingly."
   ]
  },
  {
   "cell_type": "markdown",
   "id": "0ce85df7",
   "metadata": {},
   "source": [
    " "
   ]
  },
  {
   "cell_type": "markdown",
   "id": "ebc0ccc6",
   "metadata": {},
   "source": [
    "### Summary of Graphical EDA"
   ]
  },
  {
   "cell_type": "markdown",
   "id": "856b6c47",
   "metadata": {},
   "source": [
    "<b>EDA Techniques based on Variables:</b>\n",
    "<img src='assets/EDA-based-on-Variables.png' width='450'>\n",
    "\n",
    "<br>\n",
    "\n",
    "<b>EDA Techniques based on the Objectives of Analysis:</b>\n",
    "<img src='assets/EDA-based-on-Objectives-of-Analysis.png' width='500'>"
   ]
  },
  {
   "cell_type": "markdown",
   "id": "0cbcc7ab",
   "metadata": {},
   "source": [
    " "
   ]
  }
 ],
 "metadata": {
  "kernelspec": {
   "display_name": "Python 3 (ipykernel)",
   "language": "python",
   "name": "python3"
  },
  "language_info": {
   "codemirror_mode": {
    "name": "ipython",
    "version": 3
   },
   "file_extension": ".py",
   "mimetype": "text/x-python",
   "name": "python",
   "nbconvert_exporter": "python",
   "pygments_lexer": "ipython3",
   "version": "3.10.6"
  }
 },
 "nbformat": 4,
 "nbformat_minor": 5
}
