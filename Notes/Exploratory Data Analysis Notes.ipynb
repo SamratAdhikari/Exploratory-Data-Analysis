{
 "cells": [
  {
   "cell_type": "markdown",
   "id": "f964a6b5",
   "metadata": {},
   "source": [
    "# EXPLORATORY DATA ANALYSIS"
   ]
  },
  {
   "cell_type": "markdown",
   "id": "27b1ed3b",
   "metadata": {},
   "source": [
    " "
   ]
  },
  {
   "cell_type": "markdown",
   "id": "3407a4a7",
   "metadata": {},
   "source": [
    "## Introduction to EDA"
   ]
  },
  {
   "cell_type": "markdown",
   "id": "e3bfadbf",
   "metadata": {},
   "source": [
    "<b>EDA:</b>\n",
    "- Critical process of performing initial investigtions on data to:\n",
    "    - Discover Patterns\n",
    "    - Outlier Detection\n",
    "    - Test Hypothesis\n",
    "    - Check Assumptions with summary statistics & graphical representations.\n",
    "    \n",
    "<b>Case Study:</b>\n",
    "- Imagine that, you decide to watch a movie on Netflix which you haven't heard of.\n",
    "- You find yourself puzzled with lot of questions which needs to be answered in order to make a decision.\n",
    "- So you will start asking questions like:\n",
    "   - What is the cast of the movie?\n",
    "   - What is the crew of the movie?\n",
    "   - Watch the trailer of the movie.\n",
    "   - Ratings & Reviews by other audience.\n",
    "   \n",
    "<b>Significance of EDA:</b>\n",
    "- It allows data scientists to anlyze the data before coming to any assumptions. It ensures that the results produced are valid nd applicable to business outcomes and goals.\n",
    "- Helps in identifying errors in datasets.\n",
    "- Gives a better understanding of dataset.\n",
    "- Helps detect outliers.\n",
    "- Understand dataset variables & relationship among them.\n",
    "\n",
    "<b>Why EDA?</b>\n",
    "- Provides summary statistics for each column of the dataset.\n",
    "- eg: Lets observe the Anscombe's Quartet & its summary.\n",
    "<img src=\"assets/Anscombe-Quartet.png\" width=\"600\">  \n",
    "\n",
    "- Now lets observe the EDA of the dataset visually.\n",
    "<img src=\"assets/Anscombe-Quartet-Visual.png\" width=\"600\">  \n",
    "\n",
    "- We can clearly observe that, all the datasets have different properties.\n",
    "\n",
    "<b>Summary of Ascombe's Quartet:</b>\n",
    "- Dataset 1: Fits the linear regression model.\n",
    "- Dataset 2: Could not fit linear regression model on the data quite well as the data is non-linear.\n",
    "- Dataset 3: Shows the outliers involved in the dataset which cannot be handled by linear regression model.\n",
    "- Dataset 4: Shows the outliers involved in the dataset which cannot be handled by linear regression model.\n",
    "\n",
    "<b>Key thing to remember:</b>\n",
    "- All the important features in the dataset must be visualized before implementing any Machine Learning Algorithm."
   ]
  },
  {
   "cell_type": "markdown",
   "id": "04f4087e",
   "metadata": {},
   "source": [
    " "
   ]
  },
  {
   "cell_type": "markdown",
   "id": "337eb5ca",
   "metadata": {},
   "source": [
    "## Data Analysis Techniques"
   ]
  },
  {
   "cell_type": "markdown",
   "id": "402ac9db",
   "metadata": {},
   "source": [
    "<b>Data Analysis:</b>\n",
    "- Graphical: Exploratory Data Analysis\n",
    "- Quantitative: Classical Statistical Methods\n",
    "\n",
    "<b>EDA Classification:</b>\n",
    "- Univariate EDA:\n",
    "    - Uni means one and variate means variable. So, in univariate analysis, there is only one dependent variable (column).\n",
    "    - Can be Categorical/Numerical.\n",
    "    \n",
    "- Bivariate EDA:\n",
    "    - Bi means two and variate means variable. So, in bivariate analysis, its a analysis related to relationship between 2 variables.\n",
    "    \n",
    "- Multivariate EDA:\n",
    "    - Multivariate analysis is required when more than two variables must be analyzed simultaneously.\n",
    "\n",
    "\n",
    "All three types of EDAs can be performed using Non-Graphical & Graphical techniques."
   ]
  },
  {
   "cell_type": "markdown",
   "id": "cb5d8e10",
   "metadata": {},
   "source": [
    " "
   ]
  },
  {
   "cell_type": "markdown",
   "id": "b582f240",
   "metadata": {},
   "source": [
    "## Univariate Non-Graphical Analysis"
   ]
  },
  {
   "cell_type": "markdown",
   "id": "d174f609",
   "metadata": {},
   "source": [
    "- Helps us to understand the underlying sample distribution and make observations about the population.\n",
    "- For Categorical data: Build a table containing the count and frequency of data of each category.\n",
    "\n",
    "<b>Analysis of Numerical Data:</b>  \n",
    "Numerical data can be analyzed with:\n",
    "- Measures of Central Tendency\n",
    "- Measures of Dispersion\n",
    "- Measures of Position\n",
    "- Measures of Shape\n",
    "- Existence of Outliers\n",
    "\n",
    "<b>Existence of Outliers:</b>\n",
    "- An outlier is an observation that appears to deviate markedly from other observations in the sample.\n",
    "<img src=\"assets/Outliers.png\" width=\"300\">\n",
    "\n",
    "<br>\n",
    "\n",
    "<b>How can an Outlier occur in the sample dataset?</b>\n",
    "- Data Entry/Experimental Measurement Error:  \n",
    "    Typo, Easy to identify.\n",
    "- Sampling Problems:  \n",
    "    Due to collection of random samples.\n",
    "- Natural Variation:  \n",
    "    Abnormal Conditions\n",
    "    \n",
    "    \n",
    "<b>Existence of Outliers - Impact:</b>\n",
    "- Significant impact on the mean and the standard deviation.\n",
    "- Outliers are non-randomly distributed, they can decrease normality.\n",
    "- Create bias or influence estimates that may be of substantive interest.\n",
    "- Have an impact on basic assumption of Regression, ANOVA and other statistical model assumptions.\n",
    "\n",
    "<b>Methods of Identifying Outliers:</b>\n",
    "- Sort the dataset.\n",
    "- Using Graphical Methods.\n",
    "- Standard Score (z-score).\n",
    "- Interquartile Range (IQR)."
   ]
  },
  {
   "cell_type": "markdown",
   "id": "b5472ad6",
   "metadata": {},
   "source": [
    " "
   ]
  },
  {
   "cell_type": "markdown",
   "id": "01b7c309",
   "metadata": {},
   "source": [
    "## Univariate Graphical Analysis"
   ]
  },
  {
   "cell_type": "code",
   "execution_count": null,
   "id": "a94aa46f",
   "metadata": {},
   "outputs": [],
   "source": []
  }
 ],
 "metadata": {
  "kernelspec": {
   "display_name": "Python 3 (ipykernel)",
   "language": "python",
   "name": "python3"
  },
  "language_info": {
   "codemirror_mode": {
    "name": "ipython",
    "version": 3
   },
   "file_extension": ".py",
   "mimetype": "text/x-python",
   "name": "python",
   "nbconvert_exporter": "python",
   "pygments_lexer": "ipython3",
   "version": "3.10.6"
  }
 },
 "nbformat": 4,
 "nbformat_minor": 5
}
